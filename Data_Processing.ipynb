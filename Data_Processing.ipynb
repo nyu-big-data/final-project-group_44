{
 "cells": [
  {
   "cell_type": "code",
   "execution_count": 1,
   "id": "environmental-emergency",
   "metadata": {},
   "outputs": [],
   "source": [
    "import pandas as pd\n",
    "from sklearn.model_selection import train_test_split"
   ]
  },
  {
   "cell_type": "code",
   "execution_count": 2,
   "id": "comparative-chosen",
   "metadata": {},
   "outputs": [],
   "source": [
    "# data paths\n",
    "small_path = '/scratch/work/courses/DSGA1004-2021/movielens/ml-latest-small'\n",
    "full_path = '/scratch/work/courses/DSGA1004-2021/movielens/ml-latest'"
   ]
  },
  {
   "cell_type": "markdown",
   "id": "liable-cotton",
   "metadata": {},
   "source": [
    "small:\n",
    "- links.csv (movieId,imdbId,tmdbId)\n",
    "- movies.csv (movieId,title,genres)\n",
    "- ratings.csv (userId,movieId,rating,timestamp)\n",
    "- tags.csv (userId,movieId,tag,timestamp)\n",
    "\n",
    "\n",
    "full:\n",
    "- links.csv\n",
    "- movies.csv\n",
    "- ratings.csv\n",
    "- tags.csv\n",
    "- genome-scores.csv\n",
    "- genome-tags.csv"
   ]
  },
  {
   "cell_type": "markdown",
   "id": "distant-castle",
   "metadata": {},
   "source": [
    "## ml-latest-small"
   ]
  },
  {
   "cell_type": "code",
   "execution_count": 3,
   "id": "dental-electric",
   "metadata": {},
   "outputs": [
    {
     "name": "stdout",
     "output_type": "stream",
     "text": [
      "(100836, 4)\n"
     ]
    },
    {
     "data": {
      "text/html": [
       "<div>\n",
       "<style scoped>\n",
       "    .dataframe tbody tr th:only-of-type {\n",
       "        vertical-align: middle;\n",
       "    }\n",
       "\n",
       "    .dataframe tbody tr th {\n",
       "        vertical-align: top;\n",
       "    }\n",
       "\n",
       "    .dataframe thead th {\n",
       "        text-align: right;\n",
       "    }\n",
       "</style>\n",
       "<table border=\"1\" class=\"dataframe\">\n",
       "  <thead>\n",
       "    <tr style=\"text-align: right;\">\n",
       "      <th></th>\n",
       "      <th>userId</th>\n",
       "      <th>movieId</th>\n",
       "      <th>rating</th>\n",
       "      <th>timestamp</th>\n",
       "    </tr>\n",
       "  </thead>\n",
       "  <tbody>\n",
       "    <tr>\n",
       "      <th>0</th>\n",
       "      <td>1</td>\n",
       "      <td>1</td>\n",
       "      <td>4.0</td>\n",
       "      <td>964982703</td>\n",
       "    </tr>\n",
       "    <tr>\n",
       "      <th>1</th>\n",
       "      <td>1</td>\n",
       "      <td>3</td>\n",
       "      <td>4.0</td>\n",
       "      <td>964981247</td>\n",
       "    </tr>\n",
       "    <tr>\n",
       "      <th>2</th>\n",
       "      <td>1</td>\n",
       "      <td>6</td>\n",
       "      <td>4.0</td>\n",
       "      <td>964982224</td>\n",
       "    </tr>\n",
       "    <tr>\n",
       "      <th>3</th>\n",
       "      <td>1</td>\n",
       "      <td>47</td>\n",
       "      <td>5.0</td>\n",
       "      <td>964983815</td>\n",
       "    </tr>\n",
       "    <tr>\n",
       "      <th>4</th>\n",
       "      <td>1</td>\n",
       "      <td>50</td>\n",
       "      <td>5.0</td>\n",
       "      <td>964982931</td>\n",
       "    </tr>\n",
       "  </tbody>\n",
       "</table>\n",
       "</div>"
      ],
      "text/plain": [
       "   userId  movieId  rating  timestamp\n",
       "0       1        1     4.0  964982703\n",
       "1       1        3     4.0  964981247\n",
       "2       1        6     4.0  964982224\n",
       "3       1       47     5.0  964983815\n",
       "4       1       50     5.0  964982931"
      ]
     },
     "execution_count": 3,
     "metadata": {},
     "output_type": "execute_result"
    }
   ],
   "source": [
    "# import ratings from small dataset\n",
    "ratings_small = pd.read_csv(small_path + '/ratings.csv')\n",
    "print(ratings_small.shape)\n",
    "ratings_small.head()"
   ]
  },
  {
   "cell_type": "code",
   "execution_count": 4,
   "id": "compact-donna",
   "metadata": {},
   "outputs": [],
   "source": [
    "# stratify split\n",
    "train_small, test_val_small = train_test_split(ratings_small, stratify=ratings_small['userId'], test_size=0.2)\n",
    "test_small, val_small = train_test_split(test_val_small, stratify=test_val_small['userId'], test_size=0.5)"
   ]
  },
  {
   "cell_type": "code",
   "execution_count": 5,
   "id": "designing-baker",
   "metadata": {},
   "outputs": [
    {
     "data": {
      "text/plain": [
       "<bound method NDFrame.head of        userId  movieId  rating   timestamp\n",
       "23635     160     4370     4.0  1065992012\n",
       "99816     610     4270     3.0  1493845935\n",
       "37109     249    85780     4.0  1368891309\n",
       "74536     474     6042     3.0  1069685537\n",
       "72065     464      653     2.5  1287400499\n",
       "...       ...      ...     ...         ...\n",
       "54542     358    81591     2.0  1339539299\n",
       "47846     309     1198     4.0  1166068294\n",
       "78757     489     2628     1.0  1333101402\n",
       "20303     134       48     3.0   832841524\n",
       "7944       54      318     4.0   830247358\n",
       "\n",
       "[80668 rows x 4 columns]>"
      ]
     },
     "execution_count": 5,
     "metadata": {},
     "output_type": "execute_result"
    }
   ],
   "source": [
    "train_small.head"
   ]
  },
  {
   "cell_type": "code",
   "execution_count": 6,
   "id": "saved-restoration",
   "metadata": {},
   "outputs": [
    {
     "data": {
      "text/plain": [
       "<bound method NDFrame.head of        userId  movieId  rating   timestamp\n",
       "69527     448     6503     1.0  1105009312\n",
       "66096     425     3948     3.5  1085490893\n",
       "65298     419       47     4.0  1321659049\n",
       "46041     305     1253     5.0  1460366849\n",
       "51818     335      466     3.0  1261541271\n",
       "...       ...      ...     ...         ...\n",
       "10120      66     1862     1.0  1113190775\n",
       "13189      84      527     5.0   857653594\n",
       "63782     414     4818     2.0  1091716530\n",
       "35897     244     1228     4.0   975075169\n",
       "37746     256     1270     5.0  1447001868\n",
       "\n",
       "[10084 rows x 4 columns]>"
      ]
     },
     "execution_count": 6,
     "metadata": {},
     "output_type": "execute_result"
    }
   ],
   "source": [
    "test_small.head"
   ]
  },
  {
   "cell_type": "code",
   "execution_count": 7,
   "id": "executive-constraint",
   "metadata": {},
   "outputs": [
    {
     "data": {
      "text/plain": [
       "<bound method NDFrame.head of        userId  movieId  rating   timestamp\n",
       "89689     580     8950     4.5  1167789905\n",
       "48183     312     3701     3.0  1043176884\n",
       "79331     492      619     3.0   863976722\n",
       "77116     482     1037     3.5  1105396623\n",
       "47612     307    48518     2.0  1189608059\n",
       "...       ...      ...     ...         ...\n",
       "12350      76    34405     5.0  1439165874\n",
       "21675     140    43396     4.0  1166645387\n",
       "77578     483     3785     3.0  1215896116\n",
       "9020       62    86880     4.0  1523786545\n",
       "63774     414     4776     4.0  1017669912\n",
       "\n",
       "[10084 rows x 4 columns]>"
      ]
     },
     "execution_count": 7,
     "metadata": {},
     "output_type": "execute_result"
    }
   ],
   "source": [
    "val_small.head"
   ]
  },
  {
   "cell_type": "code",
   "execution_count": 8,
   "id": "terminal-winner",
   "metadata": {},
   "outputs": [
    {
     "name": "stdout",
     "output_type": "stream",
     "text": [
      "Number of unique users in original dataset: 610\n",
      "Number of unique users in train dataset: 610\n",
      "Number of unique users in test dataset: 610\n",
      "Number of unique users in val dataset: 610\n"
     ]
    }
   ],
   "source": [
    "# Check that stratification worked\n",
    "print('Number of unique users in original dataset:', ratings_small['userId'].nunique())\n",
    "print('Number of unique users in train dataset:', train_small['userId'].nunique())\n",
    "print('Number of unique users in test dataset:', test_small['userId'].nunique())\n",
    "print('Number of unique users in val dataset:', val_small['userId'].nunique())"
   ]
  },
  {
   "cell_type": "code",
   "execution_count": 20,
   "id": "intimate-touch",
   "metadata": {},
   "outputs": [],
   "source": [
    "# save to csv!\n",
    "train_small.to_csv('ratings_small_train.csv')\n",
    "test_small.to_csv('ratings_small_test.csv')\n",
    "val_small.to_csv('ratings_small_val.csv')"
   ]
  },
  {
   "cell_type": "markdown",
   "id": "divine-alabama",
   "metadata": {},
   "source": [
    "## ml-latest"
   ]
  },
  {
   "cell_type": "code",
   "execution_count": 3,
   "id": "affiliated-dynamics",
   "metadata": {},
   "outputs": [
    {
     "name": "stdout",
     "output_type": "stream",
     "text": [
      "(27753444, 4)\n"
     ]
    },
    {
     "data": {
      "text/html": [
       "<div>\n",
       "<style scoped>\n",
       "    .dataframe tbody tr th:only-of-type {\n",
       "        vertical-align: middle;\n",
       "    }\n",
       "\n",
       "    .dataframe tbody tr th {\n",
       "        vertical-align: top;\n",
       "    }\n",
       "\n",
       "    .dataframe thead th {\n",
       "        text-align: right;\n",
       "    }\n",
       "</style>\n",
       "<table border=\"1\" class=\"dataframe\">\n",
       "  <thead>\n",
       "    <tr style=\"text-align: right;\">\n",
       "      <th></th>\n",
       "      <th>userId</th>\n",
       "      <th>movieId</th>\n",
       "      <th>rating</th>\n",
       "      <th>timestamp</th>\n",
       "    </tr>\n",
       "  </thead>\n",
       "  <tbody>\n",
       "    <tr>\n",
       "      <th>0</th>\n",
       "      <td>1</td>\n",
       "      <td>307</td>\n",
       "      <td>3.5</td>\n",
       "      <td>1256677221</td>\n",
       "    </tr>\n",
       "    <tr>\n",
       "      <th>1</th>\n",
       "      <td>1</td>\n",
       "      <td>481</td>\n",
       "      <td>3.5</td>\n",
       "      <td>1256677456</td>\n",
       "    </tr>\n",
       "    <tr>\n",
       "      <th>2</th>\n",
       "      <td>1</td>\n",
       "      <td>1091</td>\n",
       "      <td>1.5</td>\n",
       "      <td>1256677471</td>\n",
       "    </tr>\n",
       "    <tr>\n",
       "      <th>3</th>\n",
       "      <td>1</td>\n",
       "      <td>1257</td>\n",
       "      <td>4.5</td>\n",
       "      <td>1256677460</td>\n",
       "    </tr>\n",
       "    <tr>\n",
       "      <th>4</th>\n",
       "      <td>1</td>\n",
       "      <td>1449</td>\n",
       "      <td>4.5</td>\n",
       "      <td>1256677264</td>\n",
       "    </tr>\n",
       "  </tbody>\n",
       "</table>\n",
       "</div>"
      ],
      "text/plain": [
       "   userId  movieId  rating   timestamp\n",
       "0       1      307     3.5  1256677221\n",
       "1       1      481     3.5  1256677456\n",
       "2       1     1091     1.5  1256677471\n",
       "3       1     1257     4.5  1256677460\n",
       "4       1     1449     4.5  1256677264"
      ]
     },
     "execution_count": 3,
     "metadata": {},
     "output_type": "execute_result"
    }
   ],
   "source": [
    "# repeat for full dataset\n",
    "# Note: selected users have at least 1 movie (need to put these into training set before splitting the rest?)\n",
    "\n",
    "# import ratings from full dataset\n",
    "ratings_full = pd.read_csv(full_path + '/ratings.csv')\n",
    "print(ratings_full.shape)\n",
    "ratings_full.head()"
   ]
  },
  {
   "cell_type": "code",
   "execution_count": 4,
   "id": "cognitive-sympathy",
   "metadata": {},
   "outputs": [],
   "source": [
    "# count number of users with less than 3 movie ratings\n",
    "user_counts = ratings_full['userId'].value_counts()"
   ]
  },
  {
   "cell_type": "code",
   "execution_count": 6,
   "id": "noticed-satellite",
   "metadata": {},
   "outputs": [
    {
     "data": {
      "text/plain": [
       "48"
      ]
     },
     "execution_count": 6,
     "metadata": {},
     "output_type": "execute_result"
    }
   ],
   "source": [
    "# for testing\n",
    "user_counts[148]"
   ]
  },
  {
   "cell_type": "code",
   "execution_count": 5,
   "id": "numeric-escape",
   "metadata": {},
   "outputs": [],
   "source": [
    "low_rating_users = user_counts[user_counts < 3]"
   ]
  },
  {
   "cell_type": "code",
   "execution_count": 6,
   "id": "complimentary-sally",
   "metadata": {},
   "outputs": [
    {
     "data": {
      "text/plain": [
       "242684    2\n",
       "25118     2\n",
       "7072      2\n",
       "42446     2\n",
       "196252    2\n",
       "         ..\n",
       "6870      1\n",
       "15905     1\n",
       "121576    1\n",
       "105187    1\n",
       "62858     1\n",
       "Name: userId, Length: 9571, dtype: int64"
      ]
     },
     "execution_count": 6,
     "metadata": {},
     "output_type": "execute_result"
    }
   ],
   "source": [
    "low_rating_users #9571 users"
   ]
  },
  {
   "cell_type": "code",
   "execution_count": 7,
   "id": "smooth-designation",
   "metadata": {},
   "outputs": [
    {
     "name": "stdout",
     "output_type": "stream",
     "text": [
      "283228\n",
      "29.592310103437466\n"
     ]
    }
   ],
   "source": [
    "# total number of users\n",
    "print(ratings_full['userId'].nunique())\n",
    "\n",
    "# calculate percentage of users with less than 3 ratings\n",
    "print(ratings_full['userId'].nunique() / len(low_rating_users))"
   ]
  },
  {
   "cell_type": "code",
   "execution_count": 8,
   "id": "corrected-external",
   "metadata": {},
   "outputs": [
    {
     "data": {
      "text/html": [
       "<div>\n",
       "<style scoped>\n",
       "    .dataframe tbody tr th:only-of-type {\n",
       "        vertical-align: middle;\n",
       "    }\n",
       "\n",
       "    .dataframe tbody tr th {\n",
       "        vertical-align: top;\n",
       "    }\n",
       "\n",
       "    .dataframe thead th {\n",
       "        text-align: right;\n",
       "    }\n",
       "</style>\n",
       "<table border=\"1\" class=\"dataframe\">\n",
       "  <thead>\n",
       "    <tr style=\"text-align: right;\">\n",
       "      <th></th>\n",
       "      <th>userId</th>\n",
       "      <th>ratings_count</th>\n",
       "    </tr>\n",
       "  </thead>\n",
       "  <tbody>\n",
       "    <tr>\n",
       "      <th>0</th>\n",
       "      <td>242684</td>\n",
       "      <td>2</td>\n",
       "    </tr>\n",
       "    <tr>\n",
       "      <th>1</th>\n",
       "      <td>25118</td>\n",
       "      <td>2</td>\n",
       "    </tr>\n",
       "    <tr>\n",
       "      <th>2</th>\n",
       "      <td>7072</td>\n",
       "      <td>2</td>\n",
       "    </tr>\n",
       "    <tr>\n",
       "      <th>3</th>\n",
       "      <td>42446</td>\n",
       "      <td>2</td>\n",
       "    </tr>\n",
       "    <tr>\n",
       "      <th>4</th>\n",
       "      <td>196252</td>\n",
       "      <td>2</td>\n",
       "    </tr>\n",
       "    <tr>\n",
       "      <th>...</th>\n",
       "      <td>...</td>\n",
       "      <td>...</td>\n",
       "    </tr>\n",
       "    <tr>\n",
       "      <th>9566</th>\n",
       "      <td>6870</td>\n",
       "      <td>1</td>\n",
       "    </tr>\n",
       "    <tr>\n",
       "      <th>9567</th>\n",
       "      <td>15905</td>\n",
       "      <td>1</td>\n",
       "    </tr>\n",
       "    <tr>\n",
       "      <th>9568</th>\n",
       "      <td>121576</td>\n",
       "      <td>1</td>\n",
       "    </tr>\n",
       "    <tr>\n",
       "      <th>9569</th>\n",
       "      <td>105187</td>\n",
       "      <td>1</td>\n",
       "    </tr>\n",
       "    <tr>\n",
       "      <th>9570</th>\n",
       "      <td>62858</td>\n",
       "      <td>1</td>\n",
       "    </tr>\n",
       "  </tbody>\n",
       "</table>\n",
       "<p>9571 rows × 2 columns</p>\n",
       "</div>"
      ],
      "text/plain": [
       "      userId  ratings_count\n",
       "0     242684              2\n",
       "1      25118              2\n",
       "2       7072              2\n",
       "3      42446              2\n",
       "4     196252              2\n",
       "...      ...            ...\n",
       "9566    6870              1\n",
       "9567   15905              1\n",
       "9568  121576              1\n",
       "9569  105187              1\n",
       "9570   62858              1\n",
       "\n",
       "[9571 rows x 2 columns]"
      ]
     },
     "execution_count": 8,
     "metadata": {},
     "output_type": "execute_result"
    }
   ],
   "source": [
    "# get rows corresponding to these users\n",
    "# try merging columns with dataset\n",
    "\n",
    "# put low rating_users into dataframe\n",
    "low_rating_userIds = pd.DataFrame(low_rating_users)\n",
    "\n",
    "# set index as a column\n",
    "low_rating_userIds.reset_index(inplace=True)\n",
    "\n",
    "# rename column\n",
    "low_rating_userIds.rename(columns={'userId':'ratings_count', 'index': 'userId'}, inplace=True)\n",
    "\n",
    "# set index as a column\n",
    "low_rating_userIds"
   ]
  },
  {
   "cell_type": "code",
   "execution_count": 9,
   "id": "forward-administration",
   "metadata": {},
   "outputs": [],
   "source": [
    "# merge with existing dataframe\n",
    "merged_df = ratings_full.merge(low_rating_userIds, how='outer', on='userId')\n",
    "\n",
    "# column ratings_count = NaN where ratings are 3 or greater"
   ]
  },
  {
   "cell_type": "code",
   "execution_count": 10,
   "id": "sustainable-effects",
   "metadata": {},
   "outputs": [
    {
     "data": {
      "text/html": [
       "<div>\n",
       "<style scoped>\n",
       "    .dataframe tbody tr th:only-of-type {\n",
       "        vertical-align: middle;\n",
       "    }\n",
       "\n",
       "    .dataframe tbody tr th {\n",
       "        vertical-align: top;\n",
       "    }\n",
       "\n",
       "    .dataframe thead th {\n",
       "        text-align: right;\n",
       "    }\n",
       "</style>\n",
       "<table border=\"1\" class=\"dataframe\">\n",
       "  <thead>\n",
       "    <tr style=\"text-align: right;\">\n",
       "      <th></th>\n",
       "      <th>userId</th>\n",
       "      <th>movieId</th>\n",
       "      <th>rating</th>\n",
       "      <th>timestamp</th>\n",
       "      <th>ratings_count</th>\n",
       "    </tr>\n",
       "  </thead>\n",
       "  <tbody>\n",
       "    <tr>\n",
       "      <th>0</th>\n",
       "      <td>1</td>\n",
       "      <td>307</td>\n",
       "      <td>3.5</td>\n",
       "      <td>1256677221</td>\n",
       "      <td>NaN</td>\n",
       "    </tr>\n",
       "    <tr>\n",
       "      <th>1</th>\n",
       "      <td>1</td>\n",
       "      <td>481</td>\n",
       "      <td>3.5</td>\n",
       "      <td>1256677456</td>\n",
       "      <td>NaN</td>\n",
       "    </tr>\n",
       "    <tr>\n",
       "      <th>2</th>\n",
       "      <td>1</td>\n",
       "      <td>1091</td>\n",
       "      <td>1.5</td>\n",
       "      <td>1256677471</td>\n",
       "      <td>NaN</td>\n",
       "    </tr>\n",
       "    <tr>\n",
       "      <th>3</th>\n",
       "      <td>1</td>\n",
       "      <td>1257</td>\n",
       "      <td>4.5</td>\n",
       "      <td>1256677460</td>\n",
       "      <td>NaN</td>\n",
       "    </tr>\n",
       "    <tr>\n",
       "      <th>4</th>\n",
       "      <td>1</td>\n",
       "      <td>1449</td>\n",
       "      <td>4.5</td>\n",
       "      <td>1256677264</td>\n",
       "      <td>NaN</td>\n",
       "    </tr>\n",
       "    <tr>\n",
       "      <th>...</th>\n",
       "      <td>...</td>\n",
       "      <td>...</td>\n",
       "      <td>...</td>\n",
       "      <td>...</td>\n",
       "      <td>...</td>\n",
       "    </tr>\n",
       "    <tr>\n",
       "      <th>27753439</th>\n",
       "      <td>283228</td>\n",
       "      <td>8542</td>\n",
       "      <td>4.5</td>\n",
       "      <td>1379882795</td>\n",
       "      <td>NaN</td>\n",
       "    </tr>\n",
       "    <tr>\n",
       "      <th>27753440</th>\n",
       "      <td>283228</td>\n",
       "      <td>8712</td>\n",
       "      <td>4.5</td>\n",
       "      <td>1379882751</td>\n",
       "      <td>NaN</td>\n",
       "    </tr>\n",
       "    <tr>\n",
       "      <th>27753441</th>\n",
       "      <td>283228</td>\n",
       "      <td>34405</td>\n",
       "      <td>4.5</td>\n",
       "      <td>1379882889</td>\n",
       "      <td>NaN</td>\n",
       "    </tr>\n",
       "    <tr>\n",
       "      <th>27753442</th>\n",
       "      <td>283228</td>\n",
       "      <td>44761</td>\n",
       "      <td>4.5</td>\n",
       "      <td>1354159524</td>\n",
       "      <td>NaN</td>\n",
       "    </tr>\n",
       "    <tr>\n",
       "      <th>27753443</th>\n",
       "      <td>283228</td>\n",
       "      <td>54286</td>\n",
       "      <td>4.5</td>\n",
       "      <td>1354159718</td>\n",
       "      <td>NaN</td>\n",
       "    </tr>\n",
       "  </tbody>\n",
       "</table>\n",
       "<p>27753444 rows × 5 columns</p>\n",
       "</div>"
      ],
      "text/plain": [
       "          userId  movieId  rating   timestamp  ratings_count\n",
       "0              1      307     3.5  1256677221            NaN\n",
       "1              1      481     3.5  1256677456            NaN\n",
       "2              1     1091     1.5  1256677471            NaN\n",
       "3              1     1257     4.5  1256677460            NaN\n",
       "4              1     1449     4.5  1256677264            NaN\n",
       "...          ...      ...     ...         ...            ...\n",
       "27753439  283228     8542     4.5  1379882795            NaN\n",
       "27753440  283228     8712     4.5  1379882751            NaN\n",
       "27753441  283228    34405     4.5  1379882889            NaN\n",
       "27753442  283228    44761     4.5  1354159524            NaN\n",
       "27753443  283228    54286     4.5  1354159718            NaN\n",
       "\n",
       "[27753444 rows x 5 columns]"
      ]
     },
     "execution_count": 10,
     "metadata": {},
     "output_type": "execute_result"
    }
   ],
   "source": [
    "merged_df"
   ]
  },
  {
   "cell_type": "code",
   "execution_count": 11,
   "id": "focused-control",
   "metadata": {},
   "outputs": [
    {
     "data": {
      "text/html": [
       "<div>\n",
       "<style scoped>\n",
       "    .dataframe tbody tr th:only-of-type {\n",
       "        vertical-align: middle;\n",
       "    }\n",
       "\n",
       "    .dataframe tbody tr th {\n",
       "        vertical-align: top;\n",
       "    }\n",
       "\n",
       "    .dataframe thead th {\n",
       "        text-align: right;\n",
       "    }\n",
       "</style>\n",
       "<table border=\"1\" class=\"dataframe\">\n",
       "  <thead>\n",
       "    <tr style=\"text-align: right;\">\n",
       "      <th></th>\n",
       "      <th>userId</th>\n",
       "      <th>movieId</th>\n",
       "      <th>rating</th>\n",
       "      <th>timestamp</th>\n",
       "      <th>ratings_count</th>\n",
       "    </tr>\n",
       "  </thead>\n",
       "  <tbody>\n",
       "    <tr>\n",
       "      <th>0</th>\n",
       "      <td>1</td>\n",
       "      <td>307</td>\n",
       "      <td>3.5</td>\n",
       "      <td>1256677221</td>\n",
       "      <td>-1.0</td>\n",
       "    </tr>\n",
       "    <tr>\n",
       "      <th>1</th>\n",
       "      <td>1</td>\n",
       "      <td>481</td>\n",
       "      <td>3.5</td>\n",
       "      <td>1256677456</td>\n",
       "      <td>-1.0</td>\n",
       "    </tr>\n",
       "    <tr>\n",
       "      <th>2</th>\n",
       "      <td>1</td>\n",
       "      <td>1091</td>\n",
       "      <td>1.5</td>\n",
       "      <td>1256677471</td>\n",
       "      <td>-1.0</td>\n",
       "    </tr>\n",
       "    <tr>\n",
       "      <th>3</th>\n",
       "      <td>1</td>\n",
       "      <td>1257</td>\n",
       "      <td>4.5</td>\n",
       "      <td>1256677460</td>\n",
       "      <td>-1.0</td>\n",
       "    </tr>\n",
       "    <tr>\n",
       "      <th>4</th>\n",
       "      <td>1</td>\n",
       "      <td>1449</td>\n",
       "      <td>4.5</td>\n",
       "      <td>1256677264</td>\n",
       "      <td>-1.0</td>\n",
       "    </tr>\n",
       "    <tr>\n",
       "      <th>...</th>\n",
       "      <td>...</td>\n",
       "      <td>...</td>\n",
       "      <td>...</td>\n",
       "      <td>...</td>\n",
       "      <td>...</td>\n",
       "    </tr>\n",
       "    <tr>\n",
       "      <th>27753439</th>\n",
       "      <td>283228</td>\n",
       "      <td>8542</td>\n",
       "      <td>4.5</td>\n",
       "      <td>1379882795</td>\n",
       "      <td>-1.0</td>\n",
       "    </tr>\n",
       "    <tr>\n",
       "      <th>27753440</th>\n",
       "      <td>283228</td>\n",
       "      <td>8712</td>\n",
       "      <td>4.5</td>\n",
       "      <td>1379882751</td>\n",
       "      <td>-1.0</td>\n",
       "    </tr>\n",
       "    <tr>\n",
       "      <th>27753441</th>\n",
       "      <td>283228</td>\n",
       "      <td>34405</td>\n",
       "      <td>4.5</td>\n",
       "      <td>1379882889</td>\n",
       "      <td>-1.0</td>\n",
       "    </tr>\n",
       "    <tr>\n",
       "      <th>27753442</th>\n",
       "      <td>283228</td>\n",
       "      <td>44761</td>\n",
       "      <td>4.5</td>\n",
       "      <td>1354159524</td>\n",
       "      <td>-1.0</td>\n",
       "    </tr>\n",
       "    <tr>\n",
       "      <th>27753443</th>\n",
       "      <td>283228</td>\n",
       "      <td>54286</td>\n",
       "      <td>4.5</td>\n",
       "      <td>1354159718</td>\n",
       "      <td>-1.0</td>\n",
       "    </tr>\n",
       "  </tbody>\n",
       "</table>\n",
       "<p>27753444 rows × 5 columns</p>\n",
       "</div>"
      ],
      "text/plain": [
       "          userId  movieId  rating   timestamp  ratings_count\n",
       "0              1      307     3.5  1256677221           -1.0\n",
       "1              1      481     3.5  1256677456           -1.0\n",
       "2              1     1091     1.5  1256677471           -1.0\n",
       "3              1     1257     4.5  1256677460           -1.0\n",
       "4              1     1449     4.5  1256677264           -1.0\n",
       "...          ...      ...     ...         ...            ...\n",
       "27753439  283228     8542     4.5  1379882795           -1.0\n",
       "27753440  283228     8712     4.5  1379882751           -1.0\n",
       "27753441  283228    34405     4.5  1379882889           -1.0\n",
       "27753442  283228    44761     4.5  1354159524           -1.0\n",
       "27753443  283228    54286     4.5  1354159718           -1.0\n",
       "\n",
       "[27753444 rows x 5 columns]"
      ]
     },
     "execution_count": 11,
     "metadata": {},
     "output_type": "execute_result"
    }
   ],
   "source": [
    "merged_df['ratings_count'].fillna(-1, inplace=True)\n",
    "merged_df"
   ]
  },
  {
   "cell_type": "markdown",
   "id": "perfect-error",
   "metadata": {},
   "source": [
    "Try splitting randomly and see if training set has all 283228 users."
   ]
  },
  {
   "cell_type": "code",
   "execution_count": 8,
   "id": "previous-position",
   "metadata": {},
   "outputs": [],
   "source": [
    "# split regularly (not stratified)\n",
    "train_full, test_val_full = train_test_split(ratings_full, test_size=0.2)\n",
    "#test_small, val_small = train_test_split(test_val_small, stratify=test_val_small['userId'], test_size=0.5)\n",
    "\n"
   ]
  },
  {
   "cell_type": "code",
   "execution_count": 9,
   "id": "bright-imaging",
   "metadata": {},
   "outputs": [
    {
     "data": {
      "text/plain": [
       "281906"
      ]
     },
     "execution_count": 9,
     "metadata": {},
     "output_type": "execute_result"
    }
   ],
   "source": [
    "train_full['userId'].nunique() # 281906 != 283228"
   ]
  },
  {
   "cell_type": "markdown",
   "id": "level-subcommittee",
   "metadata": {},
   "source": [
    "When we tried to split the full dataframe based on the number of counts, it caused the kernel to die when using both pandas and Dask. So we split the data using Spark instead. We will now import these 2 csv files, use sklearn to split the file of ratings for users who have 3 or more ratings, and append the training set to the users who have 2 or less ratings. "
   ]
  }
 ],
 "metadata": {
  "kernelspec": {
   "display_name": "Python 3",
   "language": "python",
   "name": "python3"
  },
  "language_info": {
   "codemirror_mode": {
    "name": "ipython",
    "version": 3
   },
   "file_extension": ".py",
   "mimetype": "text/x-python",
   "name": "python",
   "nbconvert_exporter": "python",
   "pygments_lexer": "ipython3",
   "version": "3.8.5"
  }
 },
 "nbformat": 4,
 "nbformat_minor": 5
}
