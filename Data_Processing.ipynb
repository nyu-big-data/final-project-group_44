{
 "cells": [
  {
   "cell_type": "code",
   "execution_count": 2,
   "id": "environmental-emergency",
   "metadata": {},
   "outputs": [],
   "source": [
    "import pandas as pd\n",
    "from sklearn.model_selection import train_test_split"
   ]
  },
  {
   "cell_type": "code",
   "execution_count": 2,
   "id": "comparative-chosen",
   "metadata": {},
   "outputs": [],
   "source": [
    "# data paths\n",
    "small_path = '/scratch/work/courses/DSGA1004-2021/movielens/ml-latest-small'\n",
    "full_path = '/scratch/work/courses/DSGA1004-2021/movielens/ml-latest'"
   ]
  },
  {
   "cell_type": "markdown",
   "id": "liable-cotton",
   "metadata": {},
   "source": [
    "small:\n",
    "- links.csv (movieId,imdbId,tmdbId)\n",
    "- movies.csv (movieId,title,genres)\n",
    "- ratings.csv (userId,movieId,rating,timestamp)\n",
    "- tags.csv (userId,movieId,tag,timestamp)\n",
    "\n",
    "\n",
    "full:\n",
    "- links.csv\n",
    "- movies.csv\n",
    "- ratings.csv\n",
    "- tags.csv\n",
    "- genome-scores.csv\n",
    "- genome-tags.csv"
   ]
  },
  {
   "cell_type": "markdown",
   "id": "distant-castle",
   "metadata": {},
   "source": [
    "## ml-latest-small"
   ]
  },
  {
   "cell_type": "code",
   "execution_count": 3,
   "id": "dental-electric",
   "metadata": {},
   "outputs": [
    {
     "name": "stdout",
     "output_type": "stream",
     "text": [
      "(100836, 4)\n"
     ]
    },
    {
     "data": {
      "text/html": [
       "<div>\n",
       "<style scoped>\n",
       "    .dataframe tbody tr th:only-of-type {\n",
       "        vertical-align: middle;\n",
       "    }\n",
       "\n",
       "    .dataframe tbody tr th {\n",
       "        vertical-align: top;\n",
       "    }\n",
       "\n",
       "    .dataframe thead th {\n",
       "        text-align: right;\n",
       "    }\n",
       "</style>\n",
       "<table border=\"1\" class=\"dataframe\">\n",
       "  <thead>\n",
       "    <tr style=\"text-align: right;\">\n",
       "      <th></th>\n",
       "      <th>userId</th>\n",
       "      <th>movieId</th>\n",
       "      <th>rating</th>\n",
       "      <th>timestamp</th>\n",
       "    </tr>\n",
       "  </thead>\n",
       "  <tbody>\n",
       "    <tr>\n",
       "      <th>0</th>\n",
       "      <td>1</td>\n",
       "      <td>1</td>\n",
       "      <td>4.0</td>\n",
       "      <td>964982703</td>\n",
       "    </tr>\n",
       "    <tr>\n",
       "      <th>1</th>\n",
       "      <td>1</td>\n",
       "      <td>3</td>\n",
       "      <td>4.0</td>\n",
       "      <td>964981247</td>\n",
       "    </tr>\n",
       "    <tr>\n",
       "      <th>2</th>\n",
       "      <td>1</td>\n",
       "      <td>6</td>\n",
       "      <td>4.0</td>\n",
       "      <td>964982224</td>\n",
       "    </tr>\n",
       "    <tr>\n",
       "      <th>3</th>\n",
       "      <td>1</td>\n",
       "      <td>47</td>\n",
       "      <td>5.0</td>\n",
       "      <td>964983815</td>\n",
       "    </tr>\n",
       "    <tr>\n",
       "      <th>4</th>\n",
       "      <td>1</td>\n",
       "      <td>50</td>\n",
       "      <td>5.0</td>\n",
       "      <td>964982931</td>\n",
       "    </tr>\n",
       "  </tbody>\n",
       "</table>\n",
       "</div>"
      ],
      "text/plain": [
       "   userId  movieId  rating  timestamp\n",
       "0       1        1     4.0  964982703\n",
       "1       1        3     4.0  964981247\n",
       "2       1        6     4.0  964982224\n",
       "3       1       47     5.0  964983815\n",
       "4       1       50     5.0  964982931"
      ]
     },
     "execution_count": 3,
     "metadata": {},
     "output_type": "execute_result"
    }
   ],
   "source": [
    "# import ratings from small dataset\n",
    "ratings_small = pd.read_csv(small_path + '/ratings.csv')\n",
    "print(ratings_small.shape)\n",
    "ratings_small.head()"
   ]
  },
  {
   "cell_type": "code",
   "execution_count": 4,
   "id": "compact-donna",
   "metadata": {},
   "outputs": [],
   "source": [
    "# stratify split\n",
    "train_small, test_val_small = train_test_split(ratings_small, stratify=ratings_small['userId'], test_size=0.2)\n",
    "test_small, val_small = train_test_split(test_val_small, stratify=test_val_small['userId'], test_size=0.5)"
   ]
  },
  {
   "cell_type": "code",
   "execution_count": 5,
   "id": "designing-baker",
   "metadata": {},
   "outputs": [
    {
     "data": {
      "text/plain": [
       "<bound method NDFrame.head of        userId  movieId  rating   timestamp\n",
       "23635     160     4370     4.0  1065992012\n",
       "99816     610     4270     3.0  1493845935\n",
       "37109     249    85780     4.0  1368891309\n",
       "74536     474     6042     3.0  1069685537\n",
       "72065     464      653     2.5  1287400499\n",
       "...       ...      ...     ...         ...\n",
       "54542     358    81591     2.0  1339539299\n",
       "47846     309     1198     4.0  1166068294\n",
       "78757     489     2628     1.0  1333101402\n",
       "20303     134       48     3.0   832841524\n",
       "7944       54      318     4.0   830247358\n",
       "\n",
       "[80668 rows x 4 columns]>"
      ]
     },
     "execution_count": 5,
     "metadata": {},
     "output_type": "execute_result"
    }
   ],
   "source": [
    "train_small.head"
   ]
  },
  {
   "cell_type": "code",
   "execution_count": 6,
   "id": "saved-restoration",
   "metadata": {},
   "outputs": [
    {
     "data": {
      "text/plain": [
       "<bound method NDFrame.head of        userId  movieId  rating   timestamp\n",
       "69527     448     6503     1.0  1105009312\n",
       "66096     425     3948     3.5  1085490893\n",
       "65298     419       47     4.0  1321659049\n",
       "46041     305     1253     5.0  1460366849\n",
       "51818     335      466     3.0  1261541271\n",
       "...       ...      ...     ...         ...\n",
       "10120      66     1862     1.0  1113190775\n",
       "13189      84      527     5.0   857653594\n",
       "63782     414     4818     2.0  1091716530\n",
       "35897     244     1228     4.0   975075169\n",
       "37746     256     1270     5.0  1447001868\n",
       "\n",
       "[10084 rows x 4 columns]>"
      ]
     },
     "execution_count": 6,
     "metadata": {},
     "output_type": "execute_result"
    }
   ],
   "source": [
    "test_small.head"
   ]
  },
  {
   "cell_type": "code",
   "execution_count": 7,
   "id": "executive-constraint",
   "metadata": {},
   "outputs": [
    {
     "data": {
      "text/plain": [
       "<bound method NDFrame.head of        userId  movieId  rating   timestamp\n",
       "89689     580     8950     4.5  1167789905\n",
       "48183     312     3701     3.0  1043176884\n",
       "79331     492      619     3.0   863976722\n",
       "77116     482     1037     3.5  1105396623\n",
       "47612     307    48518     2.0  1189608059\n",
       "...       ...      ...     ...         ...\n",
       "12350      76    34405     5.0  1439165874\n",
       "21675     140    43396     4.0  1166645387\n",
       "77578     483     3785     3.0  1215896116\n",
       "9020       62    86880     4.0  1523786545\n",
       "63774     414     4776     4.0  1017669912\n",
       "\n",
       "[10084 rows x 4 columns]>"
      ]
     },
     "execution_count": 7,
     "metadata": {},
     "output_type": "execute_result"
    }
   ],
   "source": [
    "val_small.head"
   ]
  },
  {
   "cell_type": "code",
   "execution_count": 8,
   "id": "terminal-winner",
   "metadata": {},
   "outputs": [
    {
     "name": "stdout",
     "output_type": "stream",
     "text": [
      "Number of unique users in original dataset: 610\n",
      "Number of unique users in train dataset: 610\n",
      "Number of unique users in test dataset: 610\n",
      "Number of unique users in val dataset: 610\n"
     ]
    }
   ],
   "source": [
    "# Check that stratification worked\n",
    "print('Number of unique users in original dataset:', ratings_small['userId'].nunique())\n",
    "print('Number of unique users in train dataset:', train_small['userId'].nunique())\n",
    "print('Number of unique users in test dataset:', test_small['userId'].nunique())\n",
    "print('Number of unique users in val dataset:', val_small['userId'].nunique())"
   ]
  },
  {
   "cell_type": "code",
   "execution_count": 20,
   "id": "intimate-touch",
   "metadata": {},
   "outputs": [],
   "source": [
    "# save to csv!\n",
    "train_small.to_csv('ratings_small_train.csv')\n",
    "test_small.to_csv('ratings_small_test.csv')\n",
    "val_small.to_csv('ratings_small_val.csv')"
   ]
  },
  {
   "cell_type": "markdown",
   "id": "divine-alabama",
   "metadata": {},
   "source": [
    "## ml-latest"
   ]
  },
  {
   "cell_type": "code",
   "execution_count": 3,
   "id": "affiliated-dynamics",
   "metadata": {},
   "outputs": [
    {
     "name": "stdout",
     "output_type": "stream",
     "text": [
      "(27753444, 4)\n"
     ]
    },
    {
     "data": {
      "text/html": [
       "<div>\n",
       "<style scoped>\n",
       "    .dataframe tbody tr th:only-of-type {\n",
       "        vertical-align: middle;\n",
       "    }\n",
       "\n",
       "    .dataframe tbody tr th {\n",
       "        vertical-align: top;\n",
       "    }\n",
       "\n",
       "    .dataframe thead th {\n",
       "        text-align: right;\n",
       "    }\n",
       "</style>\n",
       "<table border=\"1\" class=\"dataframe\">\n",
       "  <thead>\n",
       "    <tr style=\"text-align: right;\">\n",
       "      <th></th>\n",
       "      <th>userId</th>\n",
       "      <th>movieId</th>\n",
       "      <th>rating</th>\n",
       "      <th>timestamp</th>\n",
       "    </tr>\n",
       "  </thead>\n",
       "  <tbody>\n",
       "    <tr>\n",
       "      <th>0</th>\n",
       "      <td>1</td>\n",
       "      <td>307</td>\n",
       "      <td>3.5</td>\n",
       "      <td>1256677221</td>\n",
       "    </tr>\n",
       "    <tr>\n",
       "      <th>1</th>\n",
       "      <td>1</td>\n",
       "      <td>481</td>\n",
       "      <td>3.5</td>\n",
       "      <td>1256677456</td>\n",
       "    </tr>\n",
       "    <tr>\n",
       "      <th>2</th>\n",
       "      <td>1</td>\n",
       "      <td>1091</td>\n",
       "      <td>1.5</td>\n",
       "      <td>1256677471</td>\n",
       "    </tr>\n",
       "    <tr>\n",
       "      <th>3</th>\n",
       "      <td>1</td>\n",
       "      <td>1257</td>\n",
       "      <td>4.5</td>\n",
       "      <td>1256677460</td>\n",
       "    </tr>\n",
       "    <tr>\n",
       "      <th>4</th>\n",
       "      <td>1</td>\n",
       "      <td>1449</td>\n",
       "      <td>4.5</td>\n",
       "      <td>1256677264</td>\n",
       "    </tr>\n",
       "  </tbody>\n",
       "</table>\n",
       "</div>"
      ],
      "text/plain": [
       "   userId  movieId  rating   timestamp\n",
       "0       1      307     3.5  1256677221\n",
       "1       1      481     3.5  1256677456\n",
       "2       1     1091     1.5  1256677471\n",
       "3       1     1257     4.5  1256677460\n",
       "4       1     1449     4.5  1256677264"
      ]
     },
     "execution_count": 3,
     "metadata": {},
     "output_type": "execute_result"
    }
   ],
   "source": [
    "# repeat for full dataset\n",
    "# Note: selected users have at least 1 movie \n",
    "\n",
    "# import ratings from full dataset\n",
    "#ratings_full = pd.read_csv(full_path + '/ratings.csv')\n",
    "#print(ratings_full.shape)\n",
    "#ratings_full.head()"
   ]
  },
  {
   "cell_type": "markdown",
   "id": "level-subcommittee",
   "metadata": {},
   "source": [
    "When we tried to split the full dataframe based on the number of counts, it caused the kernel to die when using both pandas and Dask. So we split the data using Spark instead. We will now import these 2 csv files, use sklearn to split the file of ratings for users who have 3 or more ratings, and append the training set to the users who have 2 or less ratings. "
   ]
  },
  {
   "cell_type": "code",
   "execution_count": 3,
   "id": "collective-basement",
   "metadata": {},
   "outputs": [],
   "source": [
    "df_toStratify = pd.read_csv('full_tostratify.csv', names=['userId', 'movieId', 'rating', 'timestamp', 'count'])\n",
    "df_lessThan10 = pd.read_csv('full_lessthan10.csv', names=['userId', 'movieId', 'rating', 'timestamp', 'count'])"
   ]
  },
  {
   "cell_type": "code",
   "execution_count": 4,
   "id": "crazy-suite",
   "metadata": {},
   "outputs": [],
   "source": [
    "# split stratify one normally\n",
    "train_all, test_val_all = train_test_split(df_toStratify, stratify=df_toStratify['userId'], test_size=0.2)"
   ]
  },
  {
   "cell_type": "code",
   "execution_count": 5,
   "id": "whole-event",
   "metadata": {},
   "outputs": [],
   "source": [
    "test_all, val_all = train_test_split(test_val_all, stratify=test_val_all['userId'], test_size=0.5)"
   ]
  },
  {
   "cell_type": "markdown",
   "id": "extra-bundle",
   "metadata": {},
   "source": [
    "Now handle ones that couldn't be stratified normally"
   ]
  },
  {
   "cell_type": "code",
   "execution_count": 6,
   "id": "sufficient-twelve",
   "metadata": {},
   "outputs": [],
   "source": [
    "# handles 1s and 2s\n",
    "train_1and2s = df_lessThan10[df_lessThan10['count'] < 3] # append to training later"
   ]
  },
  {
   "cell_type": "code",
   "execution_count": 7,
   "id": "loved-characteristic",
   "metadata": {},
   "outputs": [
    {
     "data": {
      "text/html": [
       "<div>\n",
       "<style scoped>\n",
       "    .dataframe tbody tr th:only-of-type {\n",
       "        vertical-align: middle;\n",
       "    }\n",
       "\n",
       "    .dataframe tbody tr th {\n",
       "        vertical-align: top;\n",
       "    }\n",
       "\n",
       "    .dataframe thead th {\n",
       "        text-align: right;\n",
       "    }\n",
       "</style>\n",
       "<table border=\"1\" class=\"dataframe\">\n",
       "  <thead>\n",
       "    <tr style=\"text-align: right;\">\n",
       "      <th></th>\n",
       "      <th>userId</th>\n",
       "      <th>movieId</th>\n",
       "      <th>rating</th>\n",
       "      <th>timestamp</th>\n",
       "      <th>count</th>\n",
       "    </tr>\n",
       "  </thead>\n",
       "  <tbody>\n",
       "    <tr>\n",
       "      <th>28</th>\n",
       "      <td>6357</td>\n",
       "      <td>2968</td>\n",
       "      <td>3.0</td>\n",
       "      <td>1327051222</td>\n",
       "      <td>1</td>\n",
       "    </tr>\n",
       "    <tr>\n",
       "      <th>29</th>\n",
       "      <td>7340</td>\n",
       "      <td>54286</td>\n",
       "      <td>3.5</td>\n",
       "      <td>1482613075</td>\n",
       "      <td>1</td>\n",
       "    </tr>\n",
       "    <tr>\n",
       "      <th>63</th>\n",
       "      <td>16386</td>\n",
       "      <td>114601</td>\n",
       "      <td>4.0</td>\n",
       "      <td>1503233667</td>\n",
       "      <td>1</td>\n",
       "    </tr>\n",
       "    <tr>\n",
       "      <th>88</th>\n",
       "      <td>19079</td>\n",
       "      <td>145</td>\n",
       "      <td>3.0</td>\n",
       "      <td>1303292120</td>\n",
       "      <td>2</td>\n",
       "    </tr>\n",
       "    <tr>\n",
       "      <th>89</th>\n",
       "      <td>19079</td>\n",
       "      <td>1909</td>\n",
       "      <td>2.0</td>\n",
       "      <td>1303292125</td>\n",
       "      <td>2</td>\n",
       "    </tr>\n",
       "    <tr>\n",
       "      <th>...</th>\n",
       "      <td>...</td>\n",
       "      <td>...</td>\n",
       "      <td>...</td>\n",
       "      <td>...</td>\n",
       "      <td>...</td>\n",
       "    </tr>\n",
       "    <tr>\n",
       "      <th>187589</th>\n",
       "      <td>266949</td>\n",
       "      <td>1131</td>\n",
       "      <td>5.0</td>\n",
       "      <td>886001029</td>\n",
       "      <td>2</td>\n",
       "    </tr>\n",
       "    <tr>\n",
       "      <th>187590</th>\n",
       "      <td>266949</td>\n",
       "      <td>1235</td>\n",
       "      <td>5.0</td>\n",
       "      <td>886001029</td>\n",
       "      <td>2</td>\n",
       "    </tr>\n",
       "    <tr>\n",
       "      <th>187591</th>\n",
       "      <td>267468</td>\n",
       "      <td>834</td>\n",
       "      <td>3.0</td>\n",
       "      <td>962893364</td>\n",
       "      <td>2</td>\n",
       "    </tr>\n",
       "    <tr>\n",
       "      <th>187592</th>\n",
       "      <td>267468</td>\n",
       "      <td>1029</td>\n",
       "      <td>1.0</td>\n",
       "      <td>962893364</td>\n",
       "      <td>2</td>\n",
       "    </tr>\n",
       "    <tr>\n",
       "      <th>187593</th>\n",
       "      <td>267891</td>\n",
       "      <td>2628</td>\n",
       "      <td>5.0</td>\n",
       "      <td>929356488</td>\n",
       "      <td>1</td>\n",
       "    </tr>\n",
       "  </tbody>\n",
       "</table>\n",
       "<p>13522 rows × 5 columns</p>\n",
       "</div>"
      ],
      "text/plain": [
       "        userId  movieId  rating   timestamp  count\n",
       "28        6357     2968     3.0  1327051222      1\n",
       "29        7340    54286     3.5  1482613075      1\n",
       "63       16386   114601     4.0  1503233667      1\n",
       "88       19079      145     3.0  1303292120      2\n",
       "89       19079     1909     2.0  1303292125      2\n",
       "...        ...      ...     ...         ...    ...\n",
       "187589  266949     1131     5.0   886001029      2\n",
       "187590  266949     1235     5.0   886001029      2\n",
       "187591  267468      834     3.0   962893364      2\n",
       "187592  267468     1029     1.0   962893364      2\n",
       "187593  267891     2628     5.0   929356488      1\n",
       "\n",
       "[13522 rows x 5 columns]"
      ]
     },
     "execution_count": 7,
     "metadata": {},
     "output_type": "execute_result"
    }
   ],
   "source": [
    "train_1and2s"
   ]
  },
  {
   "cell_type": "code",
   "execution_count": 8,
   "id": "thirty-finland",
   "metadata": {},
   "outputs": [],
   "source": [
    "# handle 3s to 9s\n",
    "toStratify_3to9s = df_lessThan10[df_lessThan10['count'] >= 3]"
   ]
  },
  {
   "cell_type": "code",
   "execution_count": 9,
   "id": "assigned-helping",
   "metadata": {},
   "outputs": [
    {
     "data": {
      "text/html": [
       "<div>\n",
       "<style scoped>\n",
       "    .dataframe tbody tr th:only-of-type {\n",
       "        vertical-align: middle;\n",
       "    }\n",
       "\n",
       "    .dataframe tbody tr th {\n",
       "        vertical-align: top;\n",
       "    }\n",
       "\n",
       "    .dataframe thead th {\n",
       "        text-align: right;\n",
       "    }\n",
       "</style>\n",
       "<table border=\"1\" class=\"dataframe\">\n",
       "  <thead>\n",
       "    <tr style=\"text-align: right;\">\n",
       "      <th></th>\n",
       "      <th>userId</th>\n",
       "      <th>movieId</th>\n",
       "      <th>rating</th>\n",
       "      <th>timestamp</th>\n",
       "      <th>count</th>\n",
       "    </tr>\n",
       "  </thead>\n",
       "  <tbody>\n",
       "    <tr>\n",
       "      <th>0</th>\n",
       "      <td>1088</td>\n",
       "      <td>912</td>\n",
       "      <td>5.0</td>\n",
       "      <td>990053868</td>\n",
       "      <td>5</td>\n",
       "    </tr>\n",
       "    <tr>\n",
       "      <th>1</th>\n",
       "      <td>1088</td>\n",
       "      <td>1947</td>\n",
       "      <td>4.0</td>\n",
       "      <td>990053868</td>\n",
       "      <td>5</td>\n",
       "    </tr>\n",
       "    <tr>\n",
       "      <th>2</th>\n",
       "      <td>1088</td>\n",
       "      <td>1989</td>\n",
       "      <td>1.0</td>\n",
       "      <td>990053868</td>\n",
       "      <td>5</td>\n",
       "    </tr>\n",
       "    <tr>\n",
       "      <th>3</th>\n",
       "      <td>1088</td>\n",
       "      <td>2144</td>\n",
       "      <td>4.0</td>\n",
       "      <td>990053876</td>\n",
       "      <td>5</td>\n",
       "    </tr>\n",
       "    <tr>\n",
       "      <th>4</th>\n",
       "      <td>1088</td>\n",
       "      <td>2712</td>\n",
       "      <td>2.0</td>\n",
       "      <td>990053876</td>\n",
       "      <td>5</td>\n",
       "    </tr>\n",
       "    <tr>\n",
       "      <th>...</th>\n",
       "      <td>...</td>\n",
       "      <td>...</td>\n",
       "      <td>...</td>\n",
       "      <td>...</td>\n",
       "      <td>...</td>\n",
       "    </tr>\n",
       "    <tr>\n",
       "      <th>187665</th>\n",
       "      <td>283166</td>\n",
       "      <td>1356</td>\n",
       "      <td>2.0</td>\n",
       "      <td>962788794</td>\n",
       "      <td>7</td>\n",
       "    </tr>\n",
       "    <tr>\n",
       "      <th>187666</th>\n",
       "      <td>283166</td>\n",
       "      <td>2398</td>\n",
       "      <td>1.0</td>\n",
       "      <td>962788756</td>\n",
       "      <td>7</td>\n",
       "    </tr>\n",
       "    <tr>\n",
       "      <th>187667</th>\n",
       "      <td>283166</td>\n",
       "      <td>2628</td>\n",
       "      <td>4.0</td>\n",
       "      <td>962788794</td>\n",
       "      <td>7</td>\n",
       "    </tr>\n",
       "    <tr>\n",
       "      <th>187668</th>\n",
       "      <td>283166</td>\n",
       "      <td>3087</td>\n",
       "      <td>1.0</td>\n",
       "      <td>962788466</td>\n",
       "      <td>7</td>\n",
       "    </tr>\n",
       "    <tr>\n",
       "      <th>187669</th>\n",
       "      <td>283166</td>\n",
       "      <td>3398</td>\n",
       "      <td>1.0</td>\n",
       "      <td>962788722</td>\n",
       "      <td>7</td>\n",
       "    </tr>\n",
       "  </tbody>\n",
       "</table>\n",
       "<p>174148 rows × 5 columns</p>\n",
       "</div>"
      ],
      "text/plain": [
       "        userId  movieId  rating  timestamp  count\n",
       "0         1088      912     5.0  990053868      5\n",
       "1         1088     1947     4.0  990053868      5\n",
       "2         1088     1989     1.0  990053868      5\n",
       "3         1088     2144     4.0  990053876      5\n",
       "4         1088     2712     2.0  990053876      5\n",
       "...        ...      ...     ...        ...    ...\n",
       "187665  283166     1356     2.0  962788794      7\n",
       "187666  283166     2398     1.0  962788756      7\n",
       "187667  283166     2628     4.0  962788794      7\n",
       "187668  283166     3087     1.0  962788466      7\n",
       "187669  283166     3398     1.0  962788722      7\n",
       "\n",
       "[174148 rows x 5 columns]"
      ]
     },
     "execution_count": 9,
     "metadata": {},
     "output_type": "execute_result"
    }
   ],
   "source": [
    "toStratify_3to9s"
   ]
  },
  {
   "cell_type": "code",
   "execution_count": 10,
   "id": "herbal-helena",
   "metadata": {},
   "outputs": [],
   "source": [
    "# split these into 3rds\n",
    "train_3to9s, test_val_3to9s = train_test_split(toStratify_3to9s, stratify=toStratify_3to9s['userId'], test_size=0.67)\n",
    "test_3to9s, val_3to9s = train_test_split(test_val_3to9s, stratify=test_val_3to9s['userId'], test_size=0.5)"
   ]
  },
  {
   "cell_type": "code",
   "execution_count": 24,
   "id": "excessive-ghost",
   "metadata": {},
   "outputs": [
    {
     "name": "stdout",
     "output_type": "stream",
     "text": [
      "(57468, 5)\n",
      "(58340, 5)\n",
      "(58340, 5)\n"
     ]
    }
   ],
   "source": [
    "print(train_3to9s.shape)\n",
    "print(test_3to9s.shape)\n",
    "print(val_3to9s.shape)"
   ]
  },
  {
   "cell_type": "markdown",
   "id": "tracked-winning",
   "metadata": {},
   "source": [
    "Now we just need to drop the counts column before writing these to csv files"
   ]
  },
  {
   "cell_type": "code",
   "execution_count": 26,
   "id": "dynamic-deviation",
   "metadata": {},
   "outputs": [
    {
     "name": "stderr",
     "output_type": "stream",
     "text": [
      "/ext3/miniconda3/lib/python3.8/site-packages/pandas/core/frame.py:4308: SettingWithCopyWarning: \n",
      "A value is trying to be set on a copy of a slice from a DataFrame\n",
      "\n",
      "See the caveats in the documentation: https://pandas.pydata.org/pandas-docs/stable/user_guide/indexing.html#returning-a-view-versus-a-copy\n",
      "  return super().drop(\n"
     ]
    }
   ],
   "source": [
    "train_all.drop(columns=['count'], inplace=True)\n",
    "test_all.drop(columns=['count'], inplace=True)\n",
    "val_all.drop(columns=['count'], inplace=True)\n",
    "\n",
    "train_1and2s.drop(columns=['count'], inplace=True)\n",
    "train_3to9s.drop(columns=['count'], inplace=True)\n",
    "test_3to9s.drop(columns=['count'], inplace=True)\n",
    "val_3to9s.drop(columns=['count'], inplace=True)"
   ]
  },
  {
   "cell_type": "code",
   "execution_count": 33,
   "id": "lovely-range",
   "metadata": {},
   "outputs": [
    {
     "data": {
      "text/html": [
       "<div>\n",
       "<style scoped>\n",
       "    .dataframe tbody tr th:only-of-type {\n",
       "        vertical-align: middle;\n",
       "    }\n",
       "\n",
       "    .dataframe tbody tr th {\n",
       "        vertical-align: top;\n",
       "    }\n",
       "\n",
       "    .dataframe thead th {\n",
       "        text-align: right;\n",
       "    }\n",
       "</style>\n",
       "<table border=\"1\" class=\"dataframe\">\n",
       "  <thead>\n",
       "    <tr style=\"text-align: right;\">\n",
       "      <th></th>\n",
       "      <th>userId</th>\n",
       "      <th>movieId</th>\n",
       "      <th>rating</th>\n",
       "      <th>timestamp</th>\n",
       "    </tr>\n",
       "  </thead>\n",
       "  <tbody>\n",
       "    <tr>\n",
       "      <th>182738</th>\n",
       "      <td>213324</td>\n",
       "      <td>1196</td>\n",
       "      <td>4.0</td>\n",
       "      <td>993751936</td>\n",
       "    </tr>\n",
       "    <tr>\n",
       "      <th>46569</th>\n",
       "      <td>233773</td>\n",
       "      <td>134130</td>\n",
       "      <td>4.0</td>\n",
       "      <td>1453174538</td>\n",
       "    </tr>\n",
       "    <tr>\n",
       "      <th>180131</th>\n",
       "      <td>216242</td>\n",
       "      <td>1213</td>\n",
       "      <td>2.0</td>\n",
       "      <td>1493077978</td>\n",
       "    </tr>\n",
       "    <tr>\n",
       "      <th>158787</th>\n",
       "      <td>232035</td>\n",
       "      <td>3510</td>\n",
       "      <td>5.0</td>\n",
       "      <td>1174417803</td>\n",
       "    </tr>\n",
       "    <tr>\n",
       "      <th>115321</th>\n",
       "      <td>251536</td>\n",
       "      <td>2762</td>\n",
       "      <td>3.0</td>\n",
       "      <td>981211823</td>\n",
       "    </tr>\n",
       "    <tr>\n",
       "      <th>...</th>\n",
       "      <td>...</td>\n",
       "      <td>...</td>\n",
       "      <td>...</td>\n",
       "      <td>...</td>\n",
       "    </tr>\n",
       "    <tr>\n",
       "      <th>56735</th>\n",
       "      <td>68721</td>\n",
       "      <td>191351</td>\n",
       "      <td>3.0</td>\n",
       "      <td>1537080080</td>\n",
       "    </tr>\n",
       "    <tr>\n",
       "      <th>51657</th>\n",
       "      <td>19029</td>\n",
       "      <td>86880</td>\n",
       "      <td>2.0</td>\n",
       "      <td>1338842345</td>\n",
       "    </tr>\n",
       "    <tr>\n",
       "      <th>45794</th>\n",
       "      <td>33298</td>\n",
       "      <td>58559</td>\n",
       "      <td>5.0</td>\n",
       "      <td>1494789405</td>\n",
       "    </tr>\n",
       "    <tr>\n",
       "      <th>74374</th>\n",
       "      <td>157292</td>\n",
       "      <td>1393</td>\n",
       "      <td>3.0</td>\n",
       "      <td>901131437</td>\n",
       "    </tr>\n",
       "    <tr>\n",
       "      <th>121842</th>\n",
       "      <td>249416</td>\n",
       "      <td>2411</td>\n",
       "      <td>2.0</td>\n",
       "      <td>965448707</td>\n",
       "    </tr>\n",
       "  </tbody>\n",
       "</table>\n",
       "<p>58340 rows × 4 columns</p>\n",
       "</div>"
      ],
      "text/plain": [
       "        userId  movieId  rating   timestamp\n",
       "182738  213324     1196     4.0   993751936\n",
       "46569   233773   134130     4.0  1453174538\n",
       "180131  216242     1213     2.0  1493077978\n",
       "158787  232035     3510     5.0  1174417803\n",
       "115321  251536     2762     3.0   981211823\n",
       "...        ...      ...     ...         ...\n",
       "56735    68721   191351     3.0  1537080080\n",
       "51657    19029    86880     2.0  1338842345\n",
       "45794    33298    58559     5.0  1494789405\n",
       "74374   157292     1393     3.0   901131437\n",
       "121842  249416     2411     2.0   965448707\n",
       "\n",
       "[58340 rows x 4 columns]"
      ]
     },
     "execution_count": 33,
     "metadata": {},
     "output_type": "execute_result"
    }
   ],
   "source": [
    "# check\n",
    "val_3to9s"
   ]
  },
  {
   "cell_type": "code",
   "execution_count": 34,
   "id": "adjusted-republican",
   "metadata": {},
   "outputs": [],
   "source": [
    "# Try writing and appending\n",
    "# first write train/val/test_all\n",
    "train_all.to_csv('ratings_all_train.csv',header ='column_names')"
   ]
  },
  {
   "cell_type": "code",
   "execution_count": 35,
   "id": "forty-penetration",
   "metadata": {},
   "outputs": [],
   "source": [
    "test_all.to_csv('ratings_all_test.csv',header ='column_names')"
   ]
  },
  {
   "cell_type": "code",
   "execution_count": 36,
   "id": "cross-component",
   "metadata": {},
   "outputs": [],
   "source": [
    "val_all.to_csv('ratings_all_val.csv',header ='column_names')"
   ]
  },
  {
   "cell_type": "code",
   "execution_count": 37,
   "id": "worthy-muscle",
   "metadata": {},
   "outputs": [],
   "source": [
    "# Now try appending others\n",
    "# train\n",
    "train_1and2s.to_csv('ratings_all_train.csv', mode='a', header=False)\n",
    "train_3to9s.to_csv('ratings_all_train.csv', mode='a', header=False)\n",
    "\n",
    "# test\n",
    "test_3to9s.to_csv('ratings_all_test.csv', mode='a', header=False)\n",
    "\n",
    "# val\n",
    "val_3to9s.to_csv('ratings_all_val.csv', mode='a', header=False)"
   ]
  },
  {
   "cell_type": "markdown",
   "id": "upper-preservation",
   "metadata": {},
   "source": [
    "Now check proportions:"
   ]
  },
  {
   "cell_type": "code",
   "execution_count": 38,
   "id": "hired-trading",
   "metadata": {},
   "outputs": [
    {
     "name": "stdout",
     "output_type": "stream",
     "text": [
      "train size: 22123609\n",
      "test size: 2814917\n",
      "val size: 2814918\n"
     ]
    }
   ],
   "source": [
    "train_size = train_all.shape[0] + train_1and2s.shape[0] + train_3to9s.shape[0]\n",
    "test_size = test_all.shape[0] + test_3to9s.shape[0]\n",
    "val_size = val_all.shape[0] + val_3to9s.shape[0]\n",
    "\n",
    "print('train size:', train_size)\n",
    "print('test size:', test_size)\n",
    "print('val size:', val_size)"
   ]
  },
  {
   "cell_type": "code",
   "execution_count": 39,
   "id": "improved-timber",
   "metadata": {},
   "outputs": [
    {
     "name": "stdout",
     "output_type": "stream",
     "text": [
      "True\n",
      "total rows: 27753444\n"
     ]
    }
   ],
   "source": [
    "# check that these match original size\n",
    "total_size = train_size + test_size + val_size\n",
    "print(total_size == df_toStratify.shape[0] + df_lessThan10.shape[0])\n",
    "print('total rows:', total_size) #27753444, which we know is correct!!!"
   ]
  },
  {
   "cell_type": "code",
   "execution_count": 40,
   "id": "matched-separate",
   "metadata": {},
   "outputs": [
    {
     "name": "stdout",
     "output_type": "stream",
     "text": [
      "Train proportion: 79.715 %\n",
      "Test proportion: 10.143 %\n",
      "Val proportion: 10.143 %\n"
     ]
    }
   ],
   "source": [
    "# Calculate percentages for train, text, val, to verify\n",
    "print('Train proportion:', round(train_size * 100 / total_size, 3), '%')\n",
    "print('Test proportion:', round(test_size * 100 / total_size,3), '%')\n",
    "print('Val proportion:', round(val_size * 100 / total_size,3), '%')"
   ]
  },
  {
   "cell_type": "markdown",
   "id": "federal-slovakia",
   "metadata": {},
   "source": [
    "Even with our handling of records with too few counts to stratify, we were able to achieve very close to our desired 80-10-10 split!"
   ]
  },
  {
   "cell_type": "code",
   "execution_count": null,
   "id": "respiratory-perception",
   "metadata": {},
   "outputs": [],
   "source": []
  }
 ],
 "metadata": {
  "kernelspec": {
   "display_name": "Python 3",
   "language": "python",
   "name": "python3"
  },
  "language_info": {
   "codemirror_mode": {
    "name": "ipython",
    "version": 3
   },
   "file_extension": ".py",
   "mimetype": "text/x-python",
   "name": "python",
   "nbconvert_exporter": "python",
   "pygments_lexer": "ipython3",
   "version": "3.8.5"
  }
 },
 "nbformat": 4,
 "nbformat_minor": 5
}
