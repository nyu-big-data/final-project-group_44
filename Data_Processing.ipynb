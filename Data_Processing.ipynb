{
 "cells": [
  {
   "cell_type": "code",
   "execution_count": 7,
   "id": "opposite-bracket",
   "metadata": {},
   "outputs": [],
   "source": [
    "import pandas as pd\n",
    "from sklearn.model_selection import train_test_split"
   ]
  },
  {
   "cell_type": "code",
   "execution_count": 2,
   "id": "published-finish",
   "metadata": {},
   "outputs": [],
   "source": [
    "# data paths\n",
    "small_path = '/scratch/work/courses/DSGA1004-2021/movielens/ml-latest-small'\n",
    "full_path = '/scratch/work/courses/DSGA1004-2021/movielens/ml-latest'"
   ]
  },
  {
   "cell_type": "markdown",
   "id": "rubber-chocolate",
   "metadata": {},
   "source": [
    "small:\n",
    "- links.csv (movieId,imdbId,tmdbId)\n",
    "- movies.csv (movieId,title,genres)\n",
    "- ratings.csv (userId,movieId,rating,timestamp)\n",
    "- tags.csv (userId,movieId,tag,timestamp)\n",
    "\n",
    "\n",
    "full:\n",
    "- links.csv\n",
    "- movies.csv\n",
    "- ratings.csv\n",
    "- tags.csv\n",
    "- genome-scores.csv\n",
    "- genome-tags.csv"
   ]
  },
  {
   "cell_type": "markdown",
   "id": "entire-pittsburgh",
   "metadata": {},
   "source": [
    "## ml-latest-small"
   ]
  },
  {
   "cell_type": "code",
   "execution_count": 6,
   "id": "grateful-rainbow",
   "metadata": {},
   "outputs": [
    {
     "name": "stdout",
     "output_type": "stream",
     "text": [
      "(100836, 4)\n"
     ]
    },
    {
     "data": {
      "text/html": [
       "<div>\n",
       "<style scoped>\n",
       "    .dataframe tbody tr th:only-of-type {\n",
       "        vertical-align: middle;\n",
       "    }\n",
       "\n",
       "    .dataframe tbody tr th {\n",
       "        vertical-align: top;\n",
       "    }\n",
       "\n",
       "    .dataframe thead th {\n",
       "        text-align: right;\n",
       "    }\n",
       "</style>\n",
       "<table border=\"1\" class=\"dataframe\">\n",
       "  <thead>\n",
       "    <tr style=\"text-align: right;\">\n",
       "      <th></th>\n",
       "      <th>userId</th>\n",
       "      <th>movieId</th>\n",
       "      <th>rating</th>\n",
       "      <th>timestamp</th>\n",
       "    </tr>\n",
       "  </thead>\n",
       "  <tbody>\n",
       "    <tr>\n",
       "      <th>0</th>\n",
       "      <td>1</td>\n",
       "      <td>1</td>\n",
       "      <td>4.0</td>\n",
       "      <td>964982703</td>\n",
       "    </tr>\n",
       "    <tr>\n",
       "      <th>1</th>\n",
       "      <td>1</td>\n",
       "      <td>3</td>\n",
       "      <td>4.0</td>\n",
       "      <td>964981247</td>\n",
       "    </tr>\n",
       "    <tr>\n",
       "      <th>2</th>\n",
       "      <td>1</td>\n",
       "      <td>6</td>\n",
       "      <td>4.0</td>\n",
       "      <td>964982224</td>\n",
       "    </tr>\n",
       "    <tr>\n",
       "      <th>3</th>\n",
       "      <td>1</td>\n",
       "      <td>47</td>\n",
       "      <td>5.0</td>\n",
       "      <td>964983815</td>\n",
       "    </tr>\n",
       "    <tr>\n",
       "      <th>4</th>\n",
       "      <td>1</td>\n",
       "      <td>50</td>\n",
       "      <td>5.0</td>\n",
       "      <td>964982931</td>\n",
       "    </tr>\n",
       "  </tbody>\n",
       "</table>\n",
       "</div>"
      ],
      "text/plain": [
       "   userId  movieId  rating  timestamp\n",
       "0       1        1     4.0  964982703\n",
       "1       1        3     4.0  964981247\n",
       "2       1        6     4.0  964982224\n",
       "3       1       47     5.0  964983815\n",
       "4       1       50     5.0  964982931"
      ]
     },
     "execution_count": 6,
     "metadata": {},
     "output_type": "execute_result"
    }
   ],
   "source": [
    "# import ratings from small dataset\n",
    "ratings_small = pd.read_csv(small_path + '/ratings.csv')\n",
    "print(ratings_small.shape)\n",
    "ratings_small.head()"
   ]
  },
  {
   "cell_type": "code",
   "execution_count": 9,
   "id": "wound-dispatch",
   "metadata": {},
   "outputs": [],
   "source": [
    "# stratify split\n",
    "train_small, test_val_small = train_test_split(ratings_small, stratify=ratings_small['userId'], test_size=0.2)"
   ]
  },
  {
   "cell_type": "code",
   "execution_count": 13,
   "id": "united-manitoba",
   "metadata": {},
   "outputs": [
    {
     "data": {
      "text/plain": [
       "<bound method NDFrame.head of         userId  movieId  rating   timestamp\n",
       "46645      306    53322     3.0  1518380996\n",
       "46116      305     2918     5.0  1524487985\n",
       "71484      460     8368     4.5  1359178182\n",
       "20142      132     4874     4.5  1174935021\n",
       "77170      482     4389     4.0  1105396950\n",
       "...        ...      ...     ...         ...\n",
       "57476      380     5991     4.0  1493420515\n",
       "24685      171      858     5.0   866904261\n",
       "13012       83     4022     3.0  1333843409\n",
       "43736      292     5480     3.0  1046391204\n",
       "100089     610    27032     4.0  1479542348\n",
       "\n",
       "[80668 rows x 4 columns]>"
      ]
     },
     "execution_count": 13,
     "metadata": {},
     "output_type": "execute_result"
    }
   ],
   "source": [
    "train_small.head"
   ]
  },
  {
   "cell_type": "code",
   "execution_count": 14,
   "id": "suffering-virgin",
   "metadata": {},
   "outputs": [
    {
     "data": {
      "text/plain": [
       "<bound method NDFrame.head of        userId  movieId  rating   timestamp\n",
       "27905     190     6936     3.5  1504310447\n",
       "6704       45     2504     4.0   951170710\n",
       "66589     428     4850     3.5  1111488731\n",
       "93791     599     4027     3.5  1498501454\n",
       "57255     380     2991     4.0  1494804280\n",
       "...       ...      ...     ...         ...\n",
       "21346     140     2947     4.0  1021898943\n",
       "53253     352     2231     4.0  1493673833\n",
       "1218       10    81784     2.5  1455357716\n",
       "36433     249      858     4.5  1346757706\n",
       "65290     418   116797     4.5  1461865711\n",
       "\n",
       "[20168 rows x 4 columns]>"
      ]
     },
     "execution_count": 14,
     "metadata": {},
     "output_type": "execute_result"
    }
   ],
   "source": [
    "test_val_small.head"
   ]
  },
  {
   "cell_type": "code",
   "execution_count": 23,
   "id": "rocky-heating",
   "metadata": {},
   "outputs": [
    {
     "name": "stdout",
     "output_type": "stream",
     "text": [
      "Number of unique users in original dataset: 610\n",
      "Number of unique users in train dataset: 610\n",
      "Number of unique users in test/val dataset: 610\n"
     ]
    }
   ],
   "source": [
    "# Check that stratification worked\n",
    "print('Number of unique users in original dataset:', ratings_small['userId'].nunique())\n",
    "print('Number of unique users in train dataset:', train_small['userId'].nunique())\n",
    "print('Number of unique users in test/val dataset:', test_val_small['userId'].nunique())"
   ]
  },
  {
   "cell_type": "code",
   "execution_count": null,
   "id": "partial-tender",
   "metadata": {},
   "outputs": [],
   "source": [
    "# Next: split train_val into train and validation sets"
   ]
  },
  {
   "cell_type": "markdown",
   "id": "freelance-wells",
   "metadata": {},
   "source": [
    "## ml-latest"
   ]
  },
  {
   "cell_type": "code",
   "execution_count": 24,
   "id": "compound-handling",
   "metadata": {},
   "outputs": [
    {
     "name": "stdout",
     "output_type": "stream",
     "text": [
      "(27753444, 4)\n"
     ]
    },
    {
     "data": {
      "text/html": [
       "<div>\n",
       "<style scoped>\n",
       "    .dataframe tbody tr th:only-of-type {\n",
       "        vertical-align: middle;\n",
       "    }\n",
       "\n",
       "    .dataframe tbody tr th {\n",
       "        vertical-align: top;\n",
       "    }\n",
       "\n",
       "    .dataframe thead th {\n",
       "        text-align: right;\n",
       "    }\n",
       "</style>\n",
       "<table border=\"1\" class=\"dataframe\">\n",
       "  <thead>\n",
       "    <tr style=\"text-align: right;\">\n",
       "      <th></th>\n",
       "      <th>userId</th>\n",
       "      <th>movieId</th>\n",
       "      <th>rating</th>\n",
       "      <th>timestamp</th>\n",
       "    </tr>\n",
       "  </thead>\n",
       "  <tbody>\n",
       "    <tr>\n",
       "      <th>0</th>\n",
       "      <td>1</td>\n",
       "      <td>307</td>\n",
       "      <td>3.5</td>\n",
       "      <td>1256677221</td>\n",
       "    </tr>\n",
       "    <tr>\n",
       "      <th>1</th>\n",
       "      <td>1</td>\n",
       "      <td>481</td>\n",
       "      <td>3.5</td>\n",
       "      <td>1256677456</td>\n",
       "    </tr>\n",
       "    <tr>\n",
       "      <th>2</th>\n",
       "      <td>1</td>\n",
       "      <td>1091</td>\n",
       "      <td>1.5</td>\n",
       "      <td>1256677471</td>\n",
       "    </tr>\n",
       "    <tr>\n",
       "      <th>3</th>\n",
       "      <td>1</td>\n",
       "      <td>1257</td>\n",
       "      <td>4.5</td>\n",
       "      <td>1256677460</td>\n",
       "    </tr>\n",
       "    <tr>\n",
       "      <th>4</th>\n",
       "      <td>1</td>\n",
       "      <td>1449</td>\n",
       "      <td>4.5</td>\n",
       "      <td>1256677264</td>\n",
       "    </tr>\n",
       "  </tbody>\n",
       "</table>\n",
       "</div>"
      ],
      "text/plain": [
       "   userId  movieId  rating   timestamp\n",
       "0       1      307     3.5  1256677221\n",
       "1       1      481     3.5  1256677456\n",
       "2       1     1091     1.5  1256677471\n",
       "3       1     1257     4.5  1256677460\n",
       "4       1     1449     4.5  1256677264"
      ]
     },
     "execution_count": 24,
     "metadata": {},
     "output_type": "execute_result"
    }
   ],
   "source": [
    "# repeat for full dataset\n",
    "# Note: selected users have at least 1 movie (need to put these into training set before splitting the rest?)\n",
    "\n",
    "# import ratings from full dataset\n",
    "ratings_full = pd.read_csv(full_path + '/ratings.csv')\n",
    "print(ratings_full.shape)\n",
    "ratings_full.head()"
   ]
  },
  {
   "cell_type": "code",
   "execution_count": null,
   "id": "wrapped-atlantic",
   "metadata": {},
   "outputs": [],
   "source": []
  }
 ],
 "metadata": {
  "kernelspec": {
   "display_name": "Python 3",
   "language": "python",
   "name": "python3"
  },
  "language_info": {
   "codemirror_mode": {
    "name": "ipython",
    "version": 3
   },
   "file_extension": ".py",
   "mimetype": "text/x-python",
   "name": "python",
   "nbconvert_exporter": "python",
   "pygments_lexer": "ipython3",
   "version": "3.8.5"
  }
 },
 "nbformat": 4,
 "nbformat_minor": 5
}
