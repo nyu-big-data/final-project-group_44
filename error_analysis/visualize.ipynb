{
 "cells": [
  {
   "cell_type": "code",
   "execution_count": 66,
   "id": "starting-wagon",
   "metadata": {},
   "outputs": [],
   "source": [
    "import pandas as pd\n",
    "import numpy as np\n",
    "import matplotlib.pyplot as plt"
   ]
  },
  {
   "cell_type": "markdown",
   "id": "wooden-catalyst",
   "metadata": {},
   "source": [
    "## Small"
   ]
  },
  {
   "cell_type": "code",
   "execution_count": 61,
   "id": "identified-trailer",
   "metadata": {},
   "outputs": [
    {
     "data": {
      "text/html": [
       "<div>\n",
       "<style scoped>\n",
       "    .dataframe tbody tr th:only-of-type {\n",
       "        vertical-align: middle;\n",
       "    }\n",
       "\n",
       "    .dataframe tbody tr th {\n",
       "        vertical-align: top;\n",
       "    }\n",
       "\n",
       "    .dataframe thead th {\n",
       "        text-align: right;\n",
       "    }\n",
       "</style>\n",
       "<table border=\"1\" class=\"dataframe\">\n",
       "  <thead>\n",
       "    <tr style=\"text-align: right;\">\n",
       "      <th></th>\n",
       "      <th>userId</th>\n",
       "      <th>movieID</th>\n",
       "      <th>genres</th>\n",
       "    </tr>\n",
       "  </thead>\n",
       "  <tbody>\n",
       "    <tr>\n",
       "      <th>0</th>\n",
       "      <td>496</td>\n",
       "      <td>7151</td>\n",
       "      <td>Drama|Romance</td>\n",
       "    </tr>\n",
       "    <tr>\n",
       "      <th>1</th>\n",
       "      <td>496</td>\n",
       "      <td>3668</td>\n",
       "      <td>Drama|Romance</td>\n",
       "    </tr>\n",
       "    <tr>\n",
       "      <th>2</th>\n",
       "      <td>496</td>\n",
       "      <td>106920</td>\n",
       "      <td>Drama|Romance|Sci-Fi</td>\n",
       "    </tr>\n",
       "    <tr>\n",
       "      <th>3</th>\n",
       "      <td>516</td>\n",
       "      <td>457</td>\n",
       "      <td>Thriller</td>\n",
       "    </tr>\n",
       "    <tr>\n",
       "      <th>4</th>\n",
       "      <td>516</td>\n",
       "      <td>4291</td>\n",
       "      <td>Comedy|Crime</td>\n",
       "    </tr>\n",
       "    <tr>\n",
       "      <th>...</th>\n",
       "      <td>...</td>\n",
       "      <td>...</td>\n",
       "      <td>...</td>\n",
       "    </tr>\n",
       "    <tr>\n",
       "      <th>3499</th>\n",
       "      <td>483</td>\n",
       "      <td>1270</td>\n",
       "      <td>Adventure|Comedy|Sci-Fi</td>\n",
       "    </tr>\n",
       "    <tr>\n",
       "      <th>3500</th>\n",
       "      <td>483</td>\n",
       "      <td>1097</td>\n",
       "      <td>Children|Drama|Sci-Fi</td>\n",
       "    </tr>\n",
       "    <tr>\n",
       "      <th>3501</th>\n",
       "      <td>106</td>\n",
       "      <td>86880</td>\n",
       "      <td>Action|Adventure|Fantasy|IMAX</td>\n",
       "    </tr>\n",
       "    <tr>\n",
       "      <th>3502</th>\n",
       "      <td>106</td>\n",
       "      <td>41566</td>\n",
       "      <td>Adventure|Children|Fantasy</td>\n",
       "    </tr>\n",
       "    <tr>\n",
       "      <th>3503</th>\n",
       "      <td>106</td>\n",
       "      <td>45722</td>\n",
       "      <td>Action|Adventure|Fantasy</td>\n",
       "    </tr>\n",
       "  </tbody>\n",
       "</table>\n",
       "<p>3504 rows × 3 columns</p>\n",
       "</div>"
      ],
      "text/plain": [
       "      userId  movieID                         genres\n",
       "0        496     7151                  Drama|Romance\n",
       "1        496     3668                  Drama|Romance\n",
       "2        496   106920           Drama|Romance|Sci-Fi\n",
       "3        516      457                       Thriller\n",
       "4        516     4291                   Comedy|Crime\n",
       "...      ...      ...                            ...\n",
       "3499     483     1270        Adventure|Comedy|Sci-Fi\n",
       "3500     483     1097          Children|Drama|Sci-Fi\n",
       "3501     106    86880  Action|Adventure|Fantasy|IMAX\n",
       "3502     106    41566     Adventure|Children|Fantasy\n",
       "3503     106    45722       Action|Adventure|Fantasy\n",
       "\n",
       "[3504 rows x 3 columns]"
      ]
     },
     "execution_count": 61,
     "metadata": {},
     "output_type": "execute_result"
    }
   ],
   "source": [
    "# read in data with genres for users with errors\n",
    "genres_df = pd.read_csv('error_genres_small.csv', header=None, names=['userId', 'movieID', 'genres'])\n",
    "genres_df"
   ]
  },
  {
   "cell_type": "code",
   "execution_count": 62,
   "id": "automatic-minority",
   "metadata": {},
   "outputs": [
    {
     "data": {
      "text/html": [
       "<div>\n",
       "<style scoped>\n",
       "    .dataframe tbody tr th:only-of-type {\n",
       "        vertical-align: middle;\n",
       "    }\n",
       "\n",
       "    .dataframe tbody tr th {\n",
       "        vertical-align: top;\n",
       "    }\n",
       "\n",
       "    .dataframe thead th {\n",
       "        text-align: right;\n",
       "    }\n",
       "</style>\n",
       "<table border=\"1\" class=\"dataframe\">\n",
       "  <thead>\n",
       "    <tr style=\"text-align: right;\">\n",
       "      <th></th>\n",
       "      <th>userId</th>\n",
       "      <th>movieID</th>\n",
       "      <th>genres</th>\n",
       "    </tr>\n",
       "  </thead>\n",
       "  <tbody>\n",
       "    <tr>\n",
       "      <th>0</th>\n",
       "      <td>496</td>\n",
       "      <td>7151</td>\n",
       "      <td>[Drama, Romance]</td>\n",
       "    </tr>\n",
       "    <tr>\n",
       "      <th>1</th>\n",
       "      <td>496</td>\n",
       "      <td>3668</td>\n",
       "      <td>[Drama, Romance]</td>\n",
       "    </tr>\n",
       "    <tr>\n",
       "      <th>2</th>\n",
       "      <td>496</td>\n",
       "      <td>106920</td>\n",
       "      <td>[Drama, Romance, Sci-Fi]</td>\n",
       "    </tr>\n",
       "    <tr>\n",
       "      <th>3</th>\n",
       "      <td>516</td>\n",
       "      <td>457</td>\n",
       "      <td>[Thriller]</td>\n",
       "    </tr>\n",
       "    <tr>\n",
       "      <th>4</th>\n",
       "      <td>516</td>\n",
       "      <td>4291</td>\n",
       "      <td>[Comedy, Crime]</td>\n",
       "    </tr>\n",
       "    <tr>\n",
       "      <th>...</th>\n",
       "      <td>...</td>\n",
       "      <td>...</td>\n",
       "      <td>...</td>\n",
       "    </tr>\n",
       "    <tr>\n",
       "      <th>3499</th>\n",
       "      <td>483</td>\n",
       "      <td>1270</td>\n",
       "      <td>[Adventure, Comedy, Sci-Fi]</td>\n",
       "    </tr>\n",
       "    <tr>\n",
       "      <th>3500</th>\n",
       "      <td>483</td>\n",
       "      <td>1097</td>\n",
       "      <td>[Children, Drama, Sci-Fi]</td>\n",
       "    </tr>\n",
       "    <tr>\n",
       "      <th>3501</th>\n",
       "      <td>106</td>\n",
       "      <td>86880</td>\n",
       "      <td>[Action, Adventure, Fantasy, IMAX]</td>\n",
       "    </tr>\n",
       "    <tr>\n",
       "      <th>3502</th>\n",
       "      <td>106</td>\n",
       "      <td>41566</td>\n",
       "      <td>[Adventure, Children, Fantasy]</td>\n",
       "    </tr>\n",
       "    <tr>\n",
       "      <th>3503</th>\n",
       "      <td>106</td>\n",
       "      <td>45722</td>\n",
       "      <td>[Action, Adventure, Fantasy]</td>\n",
       "    </tr>\n",
       "  </tbody>\n",
       "</table>\n",
       "<p>3504 rows × 3 columns</p>\n",
       "</div>"
      ],
      "text/plain": [
       "      userId  movieID                              genres\n",
       "0        496     7151                    [Drama, Romance]\n",
       "1        496     3668                    [Drama, Romance]\n",
       "2        496   106920            [Drama, Romance, Sci-Fi]\n",
       "3        516      457                          [Thriller]\n",
       "4        516     4291                     [Comedy, Crime]\n",
       "...      ...      ...                                 ...\n",
       "3499     483     1270         [Adventure, Comedy, Sci-Fi]\n",
       "3500     483     1097           [Children, Drama, Sci-Fi]\n",
       "3501     106    86880  [Action, Adventure, Fantasy, IMAX]\n",
       "3502     106    41566      [Adventure, Children, Fantasy]\n",
       "3503     106    45722        [Action, Adventure, Fantasy]\n",
       "\n",
       "[3504 rows x 3 columns]"
      ]
     },
     "execution_count": 62,
     "metadata": {},
     "output_type": "execute_result"
    }
   ],
   "source": [
    "genres_df['genres'] = genres_df['genres'].apply(lambda x: np.array(x.split('|')))\n",
    "genres_df"
   ]
  },
  {
   "cell_type": "code",
   "execution_count": 63,
   "id": "advanced-industry",
   "metadata": {},
   "outputs": [
    {
     "data": {
      "text/plain": [
       "array(['Drama', 'Romance', 'Drama', ..., 'Action', 'Adventure', 'Fantasy'],\n",
       "      dtype='<U18')"
      ]
     },
     "execution_count": 63,
     "metadata": {},
     "output_type": "execute_result"
    }
   ],
   "source": [
    "error_genres = genres_df['genres'].tolist()\n",
    "error_genres = np.concatenate(error_genres).ravel()\n",
    "error_genres"
   ]
  },
  {
   "cell_type": "code",
   "execution_count": 81,
   "id": "extended-affairs",
   "metadata": {},
   "outputs": [
    {
     "data": {
      "image/png": "[encoded data removed]",
      "text/plain": [
       "<Figure size 432x288 with 1 Axes>"
      ]
     },
     "metadata": {
      "needs_background": "light"
     },
     "output_type": "display_data"
    }
   ],
   "source": [
    "# plot!!!\n",
    "unique_elements, counts_elements = np.unique(error_genres, return_counts=True)\n",
    "\n",
    "# make dictionary\n",
    "counts = dict(zip(unique_elements, counts_elements))\n",
    "\n",
    "# sort\n",
    "sorted_genres = sorted(counts, key=counts.get, reverse=True)\n",
    "sorted_counts = []\n",
    "for w in sorted_genres:\n",
    "    sorted_counts.append(counts[w])\n",
    "\n",
    "# plot\n",
    "plt.bar(sorted_genres, sorted_counts)\n",
    "plt.xticks(rotation=45, ha=\"right\")\n",
    "plt.show()"
   ]
  },
  {
   "cell_type": "code",
   "execution_count": null,
   "id": "champion-ethiopia",
   "metadata": {},
   "outputs": [],
   "source": [
    "# now plot full distribution for comparison"
   ]
  }
 ],
 "metadata": {
  "kernelspec": {
   "display_name": "Python 3",
   "language": "python",
   "name": "python3"
  },
  "language_info": {
   "codemirror_mode": {
    "name": "ipython",
    "version": 3
   },
   "file_extension": ".py",
   "mimetype": "text/x-python",
   "name": "python",
   "nbconvert_exporter": "python",
   "pygments_lexer": "ipython3",
   "version": "3.8.5"
  }
 },
 "nbformat": 4,
 "nbformat_minor": 5
}
